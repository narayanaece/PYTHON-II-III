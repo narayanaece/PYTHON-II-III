{
 "cells": [
  {
   "cell_type": "code",
   "execution_count": 4,
   "metadata": {},
   "outputs": [
    {
     "name": "stdout",
     "output_type": "stream",
     "text": [
      "WE, THE PEOPLE OF INDIA,\n",
      " having solemnly resolved to constitute India into a SOVEREIGN,!\n",
      "\tSOCIALIST, SECULAR, DEMOCRATIC REPUBLIC\n",
      "\t and to secure to all its citizens\n"
     ]
    }
   ],
   "source": [
    "print(\"\"\"WE, THE PEOPLE OF INDIA,\\n having solemnly resolved to constitute India into a SOVEREIGN,{0}\n",
    "\\tSOCIALIST, SECULAR, DEMOCRATIC REPUBLIC\\n\\t and to secure to all its citizens\"\"\".format(\"!\"))"
   ]
  }
 ],
 "metadata": {
  "kernelspec": {
   "display_name": "Python 3",
   "language": "python",
   "name": "python3"
  },
  "language_info": {
   "codemirror_mode": {
    "name": "ipython",
    "version": 3
   },
   "file_extension": ".py",
   "mimetype": "text/x-python",
   "name": "python",
   "nbconvert_exporter": "python",
   "pygments_lexer": "ipython3",
   "version": "3.7.0"
  }
 },
 "nbformat": 4,
 "nbformat_minor": 2
}
